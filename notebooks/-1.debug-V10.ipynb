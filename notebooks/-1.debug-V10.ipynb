{
 "cells": [
  {
   "cell_type": "code",
   "execution_count": 1,
   "metadata": {},
   "outputs": [
    {
     "name": "stderr",
     "output_type": "stream",
     "text": [
      "/home/david/anaconda3/lib/python3.9/site-packages/scipy/__init__.py:146: UserWarning: A NumPy version >=1.16.5 and <1.23.0 is required for this version of SciPy (detected version 1.26.2\n",
      "  warnings.warn(f\"A NumPy version >={np_minversion} and <{np_maxversion}\"\n"
     ]
    },
    {
     "name": "stdout",
     "output_type": "stream",
     "text": [
      "cuda\n",
      "Seed: 123\n",
      "Upstream Model File Path: ./upstream_seq2seq/models/transformer_cnn_4heads_1701990699.9536803.pt\n",
      "Num attention heads: 8\n"
     ]
    },
    {
     "name": "stderr",
     "output_type": "stream",
     "text": [
      "/home/david/anaconda3/lib/python3.9/site-packages/torch/nn/modules/transformer.py:282: UserWarning: enable_nested_tensor is True, but self.use_nested_tensor is False because encoder_layer.self_attn.batch_first was not True(use batch_first for better inference performance)\n",
      "  warnings.warn(f\"enable_nested_tensor is True, but self.use_nested_tensor is False because {why_not_sparsity_fast_path}\")\n"
     ]
    },
    {
     "name": "stdout",
     "output_type": "stream",
     "text": [
      "2246929\n"
     ]
    },
    {
     "name": "stderr",
     "output_type": "stream",
     "text": [
      "Within epoch loss (training) 0.27488: 100%|██████████| 5/5 [00:06<00:00,  1.21s/it]\n",
      "Within epoch loss (validation) 0.30595: 100%|██████████| 1/1 [00:00<00:00,  4.08it/s]\n",
      "Within epoch loss (validation) 0.28733: 100%|██████████| 1/1 [00:00<00:00,  4.06it/s]\n",
      "Within epoch loss (training) 0.25659: 100%|██████████| 5/5 [00:05<00:00,  1.07s/it]\n",
      "Within epoch loss (validation) 0.30469: 100%|██████████| 1/1 [00:00<00:00,  4.05it/s]\n",
      "Within epoch loss (validation) 0.28554: 100%|██████████| 1/1 [00:00<00:00,  4.06it/s]\n",
      "Within epoch loss (training) 0.24145:  60%|██████    | 3/5 [00:03<00:02,  1.17s/it]\n"
     ]
    },
    {
     "ename": "KeyboardInterrupt",
     "evalue": "",
     "output_type": "error",
     "traceback": [
      "\u001b[0;31m---------------------------------------------------------------------------\u001b[0m",
      "\u001b[0;31mKeyboardInterrupt\u001b[0m                         Traceback (most recent call last)",
      "\u001b[1;32m/home/david/Desktop/projects/thesis/combined_downstream_upstream/notebooks/-1.debug-V10.ipynb Cell 1\u001b[0m in \u001b[0;36m<cell line: 39>\u001b[0;34m()\u001b[0m\n\u001b[1;32m     <a href='vscode-notebook-cell://ssh-remote%2B192.168.1.167/home/david/Desktop/projects/thesis/combined_downstream_upstream/notebooks/-1.debug-V10.ipynb#W0sdnNjb2RlLXJlbW90ZQ%3D%3D?line=41'>42</a>\u001b[0m downstream_model \u001b[39m=\u001b[39m load_downstream_model(dropout\u001b[39m=\u001b[39m\u001b[39m0.5\u001b[39m,scale\u001b[39m=\u001b[39m\u001b[39m1\u001b[39m,num_inputs\u001b[39m=\u001b[39m\u001b[39m12\u001b[39m, weights_path\u001b[39m=\u001b[39m\u001b[39m'\u001b[39m\u001b[39m./downstream_classification/models/AF-V9/model_val_rocauc.pt\u001b[39m\u001b[39m'\u001b[39m)\n\u001b[1;32m     <a href='vscode-notebook-cell://ssh-remote%2B192.168.1.167/home/david/Desktop/projects/thesis/combined_downstream_upstream/notebooks/-1.debug-V10.ipynb#W0sdnNjb2RlLXJlbW90ZQ%3D%3D?line=45'>46</a>\u001b[0m config \u001b[39m=\u001b[39m {\n\u001b[1;32m     <a href='vscode-notebook-cell://ssh-remote%2B192.168.1.167/home/david/Desktop/projects/thesis/combined_downstream_upstream/notebooks/-1.debug-V10.ipynb#W0sdnNjb2RlLXJlbW90ZQ%3D%3D?line=46'>47</a>\u001b[0m         \u001b[39m# general\u001b[39;00m\n\u001b[1;32m     <a href='vscode-notebook-cell://ssh-remote%2B192.168.1.167/home/david/Desktop/projects/thesis/combined_downstream_upstream/notebooks/-1.debug-V10.ipynb#W0sdnNjb2RlLXJlbW90ZQ%3D%3D?line=47'>48</a>\u001b[0m         \u001b[39m'\u001b[39m\u001b[39mseed\u001b[39m\u001b[39m'\u001b[39m:seed_,\n\u001b[0;32m   (...)\u001b[0m\n\u001b[1;32m     <a href='vscode-notebook-cell://ssh-remote%2B192.168.1.167/home/david/Desktop/projects/thesis/combined_downstream_upstream/notebooks/-1.debug-V10.ipynb#W0sdnNjb2RlLXJlbW90ZQ%3D%3D?line=74'>75</a>\u001b[0m         \u001b[39m'\u001b[39m\u001b[39mcheck_on_test\u001b[39m\u001b[39m'\u001b[39m:\u001b[39mTrue\u001b[39;00m,\n\u001b[1;32m     <a href='vscode-notebook-cell://ssh-remote%2B192.168.1.167/home/david/Desktop/projects/thesis/combined_downstream_upstream/notebooks/-1.debug-V10.ipynb#W0sdnNjb2RlLXJlbW90ZQ%3D%3D?line=75'>76</a>\u001b[0m         }\n\u001b[0;32m---> <a href='vscode-notebook-cell://ssh-remote%2B192.168.1.167/home/david/Desktop/projects/thesis/combined_downstream_upstream/notebooks/-1.debug-V10.ipynb#W0sdnNjb2RlLXJlbW90ZQ%3D%3D?line=77'>78</a>\u001b[0m best_rocauc_and_pr_auc_seed \u001b[39m=\u001b[39m trainer(\u001b[39m*\u001b[39;49m\u001b[39m*\u001b[39;49mconfig)\n\u001b[1;32m     <a href='vscode-notebook-cell://ssh-remote%2B192.168.1.167/home/david/Desktop/projects/thesis/combined_downstream_upstream/notebooks/-1.debug-V10.ipynb#W0sdnNjb2RlLXJlbW90ZQ%3D%3D?line=79'>80</a>\u001b[0m best_rocauc_and_pr_auc[\u001b[39m'\u001b[39m\u001b[39mseed\u001b[39m\u001b[39m'\u001b[39m]\u001b[39m.\u001b[39mappend(seed_)\n\u001b[1;32m     <a href='vscode-notebook-cell://ssh-remote%2B192.168.1.167/home/david/Desktop/projects/thesis/combined_downstream_upstream/notebooks/-1.debug-V10.ipynb#W0sdnNjb2RlLXJlbW90ZQ%3D%3D?line=80'>81</a>\u001b[0m best_rocauc_and_pr_auc[\u001b[39m'\u001b[39m\u001b[39mvalidation-roc-auc\u001b[39m\u001b[39m'\u001b[39m]\u001b[39m.\u001b[39mappend(best_rocauc_and_pr_auc_seed[\u001b[39m'\u001b[39m\u001b[39mvalidation-roc-auc\u001b[39m\u001b[39m'\u001b[39m])\n",
      "File \u001b[0;32m~/Desktop/projects/thesis/combined_downstream_upstream/executors/train_combined_model.py:213\u001b[0m, in \u001b[0;36mtrainer\u001b[0;34m(seed, metadata_file_path, data_folder_path, targets, batch_size, n_epochs, clip, impute_only_missing, upstream_model, downstream_model, continue_training_upstream_model, model_saving_path, leads, eval_metric, weight_decay, lr, patience, loss_function_weight, reconstruction_loss_weight, check_on_test, plot, plot_saving_path)\u001b[0m\n\u001b[1;32m    209\u001b[0m start_time \u001b[39m=\u001b[39m time\u001b[39m.\u001b[39mtime()\n\u001b[1;32m    211\u001b[0m \u001b[39m# train\u001b[39;00m\n\u001b[1;32m    212\u001b[0m \u001b[39m# number of leads (dictates training scheme):\u001b[39;00m\n\u001b[0;32m--> 213\u001b[0m train_loss, y_train, y_train_pred \u001b[39m=\u001b[39m train_epoch(model, \n\u001b[1;32m    214\u001b[0m                    train_generator, \n\u001b[1;32m    215\u001b[0m                    optimizer, \n\u001b[1;32m    216\u001b[0m                    classification_criterion, \n\u001b[1;32m    217\u001b[0m                    clip, \n\u001b[1;32m    218\u001b[0m                    device,\n\u001b[1;32m    219\u001b[0m                    reconstruction_criterion,\n\u001b[1;32m    220\u001b[0m                    reconstruction_loss_weight\n\u001b[1;32m    221\u001b[0m                    )        \n\u001b[1;32m    224\u001b[0m \u001b[39m# evaluate\u001b[39;00m\n\u001b[1;32m    225\u001b[0m valid_loss, y_val, y_val_pred \u001b[39m=\u001b[39m evaluate_epoch(model, \n\u001b[1;32m    226\u001b[0m                       validation_generator, \n\u001b[1;32m    227\u001b[0m                       classification_criterion, \n\u001b[0;32m   (...)\u001b[0m\n\u001b[1;32m    230\u001b[0m                       reconstruction_loss_weight\n\u001b[1;32m    231\u001b[0m                    )\n",
      "File \u001b[0;32m~/Desktop/projects/thesis/combined_downstream_upstream/executors/train_combined_model.py:648\u001b[0m, in \u001b[0;36mtrain_epoch\u001b[0;34m(model, iterator, optimizer, classification_criterion, clip, device, reconstruction_criterion, reconstruction_loss_weight)\u001b[0m\n\u001b[1;32m    646\u001b[0m reconstruction_X \u001b[39m=\u001b[39m reconstruction_X\u001b[39m.\u001b[39mpermute((\u001b[39m1\u001b[39m,\u001b[39m2\u001b[39m,\u001b[39m0\u001b[39m))\n\u001b[1;32m    647\u001b[0m non_zero_mask \u001b[39m=\u001b[39m X_perm\u001b[39m.\u001b[39mabs()\u001b[39m.\u001b[39msum(dim\u001b[39m=\u001b[39m\u001b[39m-\u001b[39m\u001b[39m1\u001b[39m) \u001b[39m!=\u001b[39m \u001b[39m0\u001b[39m\n\u001b[0;32m--> 648\u001b[0m filtered_output \u001b[39m=\u001b[39m X_perm[non_zero_mask]\n\u001b[1;32m    649\u001b[0m filtered_target \u001b[39m=\u001b[39m reconstruction_X[non_zero_mask]\n\u001b[1;32m    651\u001b[0m loss \u001b[39m=\u001b[39m (\u001b[39m1\u001b[39m \u001b[39m-\u001b[39m reconstruction_loss_weight) \u001b[39m*\u001b[39m classification_criterion(output, y) \u001b[39m+\u001b[39m reconstruction_loss_weight \u001b[39m*\u001b[39m reconstruction_criterion(filtered_target, filtered_output)\n",
      "\u001b[0;31mKeyboardInterrupt\u001b[0m: "
     ]
    },
    {
     "data": {
      "image/png": "[encoded data removed]",
      "text/plain": [
       "<Figure size 720x216 with 2 Axes>"
      ]
     },
     "metadata": {
      "needs_background": "light"
     },
     "output_type": "display_data"
    }
   ],
   "source": [
    "import os\n",
    "os.chdir('/home/david/Desktop/projects/thesis/')\n",
    "\n",
    "# import sys\n",
    "# sys.path.append('/home/david/Desktop/projects/thesis/')\n",
    "\n",
    "import numpy as np\n",
    "import pickle \n",
    "\n",
    "from combined_downstream_upstream.utils.LoadModels import *\n",
    "from combined_downstream_upstream.executors.train_combined_model import trainer\n",
    "\n",
    "\n",
    "# upstream model params\n",
    "# ---------------\n",
    "upstream_params = {\n",
    "    'input_dimension': 12,\n",
    "    'output_dimension': 12,              \n",
    "    'hidden_dimmension':  128,           # d_model (int) – the number of expected features in the input (required)???,\n",
    "    'attention_heads': 8,               # number of attention heads, if None then d_model//64,\n",
    "    'encoder_number_of_layers': 8,\n",
    "    'dropout': 0.4,\n",
    "    'clip': 1,\n",
    "    'positional_encodings': False,\n",
    "    'device':'cuda'\n",
    "}\n",
    "best_rocauc_and_pr_auc = {\n",
    "    'seed':[],\n",
    "    'validation-roc-auc':[],\n",
    "    'validation-pr-auc':[],\n",
    "    'test-roc-auc':[],\n",
    "    'test-pr-auc':[],\n",
    "}\n",
    "\n",
    "seed = 123\n",
    "np.random.seed(123)\n",
    "seeds = np.random.randint(0,1000, 50)\n",
    "\n",
    "for seed_ in seeds:\n",
    "    print('Seed:', seed)\n",
    "    upstream_model   = load_upstream_model(upstream_params, folder_path = './upstream_seq2seq/models/', model_name = 'transformer_cnn_4heads')\n",
    "    downstream_model = load_downstream_model(dropout=0.5,scale=1,num_inputs=12, weights_path='./downstream_classification/models/AF-V9/model_val_rocauc.pt')\n",
    "\n",
    "\n",
    "\n",
    "    config = {\n",
    "            # general\n",
    "            'seed':seed_,\n",
    "            'metadata_file_path': './downstream_classification/data/combined_data/metadata_only_existant_readings_09042023_sample_of_1000.csv',\n",
    "            # 'metadata_file_path': './downstream_classification/data/combined_data/metadata_only_existant_readings_09042023.csv',\n",
    "            'data_folder_path': './downstream_classification/data/individual-signals/',\n",
    "            'targets': ['AF'],\n",
    "            'leads': ['LI', 'LII', 'LIII', 'aVF', 'aVL', 'aVR','V1','V2','V3','V4','V5','V6'],\n",
    "\n",
    "            # training\n",
    "            'batch_size': 128,\n",
    "            'n_epochs': 10, # catastrophic forgetting\n",
    "            'weight_decay': 0.3,\n",
    "            'lr': 0.0005,\n",
    "            'eval_metric':'rocauc',\n",
    "            'patience':3,\n",
    "            'clip':1,\n",
    "            'loss_function_weight':None,\n",
    "\n",
    "            # Experiment settings\n",
    "            'upstream_model':upstream_model,\n",
    "            'downstream_model':downstream_model,\n",
    "            'impute_only_missing':False,\n",
    "            'continue_training_upstream_model':True,\n",
    "            'model_saving_path':'./combined_downstream_upstream/models/AF-V5-different-seeds',\n",
    "\n",
    "            'reconstruction_loss_weight':0.5,\n",
    "\n",
    "            # test\n",
    "            'check_on_test':True,\n",
    "            'plot':True,\n",
    "            'plot_saving_path':'/home/david/Desktop/projects/thesis/combined_downstream_upstream/plots/V10/',\n",
    "\n",
    "            }\n",
    "\n",
    "    best_rocauc_and_pr_auc_seed = trainer(**config)\n",
    "    \n",
    "    best_rocauc_and_pr_auc['seed'].append(seed_)\n",
    "    best_rocauc_and_pr_auc['validation-roc-auc'].append(best_rocauc_and_pr_auc_seed['validation-roc-auc'])\n",
    "    best_rocauc_and_pr_auc['validation-pr-auc'].append(best_rocauc_and_pr_auc_seed['validation-auc-pr'])\n",
    "    best_rocauc_and_pr_auc['test-roc-auc'].append(best_rocauc_and_pr_auc_seed['test-roc-auc'])\n",
    "    best_rocauc_and_pr_auc['test-pr-auc'].append(best_rocauc_and_pr_auc_seed['test-auc-pr'])\n",
    "    \n",
    "    with open(config['model_saving_path']+'/best_rocauc_and_pr_auc.pkl', 'wb') as f:\n",
    "        pickle.dump(best_rocauc_and_pr_auc, f)\n"
   ]
  },
  {
   "cell_type": "code",
   "execution_count": null,
   "metadata": {},
   "outputs": [],
   "source": [
    "import sys\n",
    "sys.exit(0)"
   ]
  },
  {
   "cell_type": "code",
   "execution_count": null,
   "metadata": {},
   "outputs": [
    {
     "data": {
      "text/plain": [
       "train         711\n",
       "test          145\n",
       "validation    144\n",
       "Name: sample, dtype: int64"
      ]
     },
     "execution_count": 5,
     "metadata": {},
     "output_type": "execute_result"
    }
   ],
   "source": [
    "# import pandas as pd\n",
    "# metadata = pd.read_csv('./downstream_classification/data/combined_data/metadata_only_existant_readings_09042023.csv', index_col=0)\n",
    "# metadata_sample = metadata.sample(n=1000).reset_index(drop = True)\n",
    "# metadata_sample['sample'].value_counts()"
   ]
  },
  {
   "cell_type": "code",
   "execution_count": null,
   "metadata": {},
   "outputs": [
    {
     "data": {
      "text/plain": [
       "tensor([[ 0.4708,  1.0661, -1.1070, -0.0546,  0.2821, -1.0658,  1.6445],\n",
       "        [ 0.2468,  0.1526,  0.6004, -1.1296, -1.4728,  0.7698, -3.0358],\n",
       "        [ 0.0000,  0.0000,  0.0000,  0.0000,  0.0000,  0.0000,  0.0000],\n",
       "        [ 1.3445,  0.5311, -1.2310,  0.4879, -1.2281, -1.4141,  1.2972],\n",
       "        [ 0.7291,  0.7135,  0.1809,  0.2194, -1.0352,  1.1511,  1.5047],\n",
       "        [ 1.3031, -0.9245,  0.6503,  0.1432,  0.4830, -0.5816, -1.0250],\n",
       "        [ 0.0000,  0.0000,  0.0000,  0.0000,  0.0000,  0.0000,  0.0000],\n",
       "        [ 0.8956,  0.0204, -0.3234, -1.7892, -0.6476,  0.2088, -1.2477],\n",
       "        [ 0.5682, -0.4021,  0.5059, -0.7913, -0.2690,  0.0759, -0.8475],\n",
       "        [ 1.0397, -0.5426, -1.5914, -0.3543, -1.7055, -1.1548, -1.7783],\n",
       "        [ 0.2109, -0.0186, -0.0385, -0.6466, -0.6346, -0.2124,  0.7210],\n",
       "        [-1.7837, -1.8141, -1.2359,  0.2603, -0.1289, -0.0235,  0.5824]])"
      ]
     },
     "execution_count": 16,
     "metadata": {},
     "output_type": "execute_result"
    }
   ],
   "source": [
    "import torch\n",
    "import numpy as np\n",
    "import torch.nn as nn\n",
    "\n",
    "X = torch.randn(12,7)\n",
    "X[2] = 0\n",
    "X[6] = 0\n",
    "X\n",
    "# x1 = torch.from_numpy(x1)\n",
    "# x2 = torch.from_numpy(x2)\n",
    "# nn.MSELoss(x1,x2)\n"
   ]
  },
  {
   "cell_type": "code",
   "execution_count": null,
   "metadata": {},
   "outputs": [
    {
     "data": {
      "text/plain": [
       "torch.Size([10, 7])"
      ]
     },
     "execution_count": 25,
     "metadata": {},
     "output_type": "execute_result"
    }
   ],
   "source": [
    "mask = X!=0\n",
    "mask.shape, X[mask].shape\n",
    "new_mask = mask[:,0]\n",
    "X[new_mask].shape"
   ]
  },
  {
   "cell_type": "code",
   "execution_count": null,
   "metadata": {},
   "outputs": [
    {
     "data": {
      "text/plain": [
       "torch.Size([3, 2, 12])"
      ]
     },
     "execution_count": 20,
     "metadata": {},
     "output_type": "execute_result"
    }
   ],
   "source": [
    "mask.shape"
   ]
  },
  {
   "cell_type": "code",
   "execution_count": null,
   "metadata": {},
   "outputs": [
    {
     "data": {
      "text/plain": [
       "[tensor([[-0.0212, -0.8621,  0.7918,  0.3615, -0.7413,  0.9035,  1.8251],\n",
       "         [-0.4687,  0.9083, -0.1546,  1.2870,  0.7000, -0.5278,  0.6533],\n",
       "         [-0.0429, -1.9673,  0.1245,  0.9132,  0.1220,  1.3823, -1.0253],\n",
       "         [ 0.5102, -0.3961, -0.1939, -1.2770,  1.1359,  0.7756, -0.1593],\n",
       "         [-1.0129, -0.4736,  0.8479,  0.6473, -0.5666,  0.0731, -0.8311],\n",
       "         [-0.1012, -1.0160, -0.7194, -0.5386,  1.1907,  1.2755, -0.1819],\n",
       "         [-1.0142,  1.4965,  2.1490, -0.7290, -1.2205,  2.0168, -0.8545]]),\n",
       " tensor([[-1.4296,  0.7687, -0.6362, -1.1581, -0.3854, -1.3251,  1.8590],\n",
       "         [ 0.6099,  0.7114, -0.9596,  0.8558, -0.5708, -1.3283, -0.0457],\n",
       "         [-1.4530,  0.1701, -0.1852,  0.3961, -0.5055, -1.2344,  2.8439],\n",
       "         [ 0.2452,  1.1301,  1.0829,  0.6453,  0.5471,  1.9413,  0.0481],\n",
       "         [ 0.2683, -1.7192,  0.7792,  0.7972, -0.0839, -1.4357, -1.8529],\n",
       "         [-1.6621,  0.7724,  2.8930,  0.0496,  0.1912,  1.3508,  0.9493],\n",
       "         [-0.6937,  0.9131, -1.0013, -0.1951, -0.3365,  1.1009,  0.6669]]),\n",
       " tensor([[ 0.6202, -0.7917, -0.1646,  1.2578, -0.8511, -0.5138, -1.2091],\n",
       "         [ 0.6839,  1.3772, -0.9032,  0.2843, -0.5838,  0.1200, -0.7438],\n",
       "         [ 0.5877,  0.2846,  0.1026,  0.3279, -0.1352,  0.4505,  0.9351]]),\n",
       " tensor([[-0.1644, -0.5136,  1.3776,  0.3780,  1.3130, -1.1926,  0.0459],\n",
       "         [ 0.4130,  0.0203,  0.7998, -1.7957,  0.6714, -1.3470,  0.4521],\n",
       "         [ 0.9300,  1.8885,  0.6613,  1.2835,  1.5973,  0.7276,  0.6073],\n",
       "         [-0.7238, -0.8293, -1.8039,  1.1283,  0.8204,  0.2683, -1.1087],\n",
       "         [ 0.9223, -0.5951, -0.2950,  1.6324, -0.0183,  0.3275,  0.1565],\n",
       "         [ 1.5349, -0.4177, -1.5068,  0.0102,  0.9650,  0.9252,  1.4791]]),\n",
       " tensor([[ 1.1876, -0.9541,  0.5675,  0.4896,  1.4608, -0.2452, -0.0229],\n",
       "         [-0.1403,  0.4338,  0.1515,  1.4365, -0.8970, -1.0732, -0.9222],\n",
       "         [ 1.7064, -0.4861, -0.1289, -1.3149, -1.3935, -1.3622,  1.4535],\n",
       "         [-0.0414,  0.1447, -0.9010,  0.4447, -0.7100, -0.0442,  0.9120],\n",
       "         [-0.4049,  0.2840,  0.0460,  0.8616, -0.8737,  1.1251, -0.3558],\n",
       "         [ 0.9664,  0.7877, -0.4343, -2.4079,  1.6916,  0.9050,  0.2072]]),\n",
       " tensor([[ 1.0938, -0.5769, -1.0162, -3.5757,  0.0504, -0.2157, -1.0730],\n",
       "         [-0.3112, -0.6119, -0.2289, -0.7380, -0.3592,  0.0743, -0.7716],\n",
       "         [ 0.4883,  0.1336,  1.3912,  0.4228,  0.5054,  2.0920, -0.2518]]),\n",
       " tensor([[ 0.7210, -0.1229,  0.6027, -1.6009,  0.5796,  0.0889, -1.7998],\n",
       "         [ 1.4029, -2.2827, -0.2440,  1.0853, -0.3601,  1.7738, -1.9451],\n",
       "         [-0.2101,  0.7997, -2.1786,  1.6491, -0.4978,  0.7316, -0.2687],\n",
       "         [-0.3508,  0.3128, -1.5635, -0.5091,  0.9490, -0.8586, -0.2628],\n",
       "         [-1.4185,  0.6501,  0.1821, -0.7252,  0.1253, -0.5522,  0.8457],\n",
       "         [ 1.0575,  0.4425,  0.4244, -1.8226,  0.3704,  1.3682, -0.1373]]),\n",
       " tensor([[-1.3749,  1.2933,  0.1169, -1.2475, -0.0224, -1.5697, -1.4939],\n",
       "         [ 0.5893,  0.6922,  0.5996, -0.5258, -0.8773,  1.2607, -0.5432],\n",
       "         [-0.4945, -0.2869,  0.7860, -0.3921,  0.0089,  1.3805,  0.4218],\n",
       "         [-0.8653, -0.7077,  0.2303,  0.2339, -0.5775,  0.0483, -0.1686],\n",
       "         [ 0.1236,  1.7950, -2.3560,  0.3062, -0.4108, -0.0031,  1.2831],\n",
       "         [ 0.4962,  0.8622, -0.0407, -0.2892, -0.1590, -0.6112, -0.8814],\n",
       "         [ 0.0684, -0.4672, -1.4018,  0.5381,  1.0808,  0.4074,  0.6780],\n",
       "         [ 0.8755, -0.1431,  0.3263,  1.6879,  0.7768, -0.1056,  0.4139]]),\n",
       " tensor([[-0.4873, -0.2344, -0.8692,  1.2686, -0.3418,  0.0543, -0.8369],\n",
       "         [-0.2520, -0.8945, -2.0616,  0.2849, -1.1308,  2.2906,  0.0028],\n",
       "         [-2.3823, -0.0771, -0.0726, -1.9340, -0.0073, -0.4249, -0.1096],\n",
       "         [-1.9246,  1.0424,  1.1748,  1.1682,  0.5603, -0.1553,  1.5853],\n",
       "         [-0.1533,  1.0249,  0.6876, -0.2906,  1.2767, -0.4413,  1.1286],\n",
       "         [-0.8865,  1.2356, -1.4151, -1.4750, -0.0664,  1.4222, -1.4674],\n",
       "         [-0.7592, -1.5909,  1.2612, -0.1837, -0.8736,  1.1888,  1.1008],\n",
       "         [-0.3271,  1.2012,  2.4707,  1.6980, -0.3484,  0.3056, -0.5627],\n",
       "         [ 1.1263,  0.6056, -1.2249, -0.6716, -0.7616, -0.2783,  0.8330]]),\n",
       " tensor([[ 0.1083, -1.8952,  0.4350, -0.8905, -0.9850, -0.1325, -0.2245],\n",
       "         [-0.6372,  0.0985, -0.6144, -1.1576,  2.2570,  0.3054,  0.3617],\n",
       "         [-0.9937,  0.2070,  0.5683,  1.4961, -2.2039,  0.6498,  0.0333],\n",
       "         [ 0.2362, -0.8123, -0.5522, -1.2123, -0.5163, -0.1894,  0.5894],\n",
       "         [-0.9613,  0.9595, -1.4555,  0.3072,  0.9972,  0.6703,  0.8343],\n",
       "         [-0.0936, -0.0050, -0.9865, -0.5965,  1.2251, -0.9769, -0.6664]])]"
      ]
     },
     "execution_count": 6,
     "metadata": {},
     "output_type": "execute_result"
    }
   ],
   "source": [
    "\n",
    "# Assuming X is your tensor with shape (10, 12, 7)\n",
    "X = torch.randn(10, 12, 7)\n",
    "\n",
    "# Assuming mask is your 2D mask with shape (10, 12)\n",
    "mask = torch.rand(10, 12) > 0.5  # Example mask with random True/False\n",
    "\n",
    "# Apply the mask to each \"sub-tensor\" of X\n",
    "filtered_tensors = torch.from_numpy(np.array([X[i][mask[i]] for i in range(X.shape[0])]))\n",
    "filtered_tensors"
   ]
  }
 ],
 "metadata": {
  "kernelspec": {
   "display_name": "base",
   "language": "python",
   "name": "python3"
  },
  "language_info": {
   "codemirror_mode": {
    "name": "ipython",
    "version": 3
   },
   "file_extension": ".py",
   "mimetype": "text/x-python",
   "name": "python",
   "nbconvert_exporter": "python",
   "pygments_lexer": "ipython3",
   "version": "3.9.12"
  },
  "orig_nbformat": 4
 },
 "nbformat": 4,
 "nbformat_minor": 2
}
