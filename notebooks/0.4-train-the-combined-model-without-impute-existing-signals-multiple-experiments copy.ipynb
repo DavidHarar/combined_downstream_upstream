{
 "cells": [
  {
   "attachments": {},
   "cell_type": "markdown",
   "metadata": {},
   "source": [
    "# Summary\n",
    "TBA"
   ]
  },
  {
   "attachments": {},
   "cell_type": "markdown",
   "metadata": {},
   "source": [
    "# Setup"
   ]
  },
  {
   "cell_type": "code",
   "execution_count": 1,
   "metadata": {},
   "outputs": [],
   "source": [
    "import os\n",
    "os.chdir('/home/david/Desktop/projects/thesis/')"
   ]
  },
  {
   "cell_type": "code",
   "execution_count": 2,
   "metadata": {},
   "outputs": [],
   "source": [
    "import torch\n",
    "\n",
    "# hyperparams to be changed if needed\n",
    "downstream_path = './downstream_classification/models/3.0-inception-bs128-balanced-death-lr0.001-decay0-aucpr-weighted33.pt'\n",
    "upstream_path = './upstream_seq2seq/models/transformer_cnn_1696038569.0264485.pt'\n",
    "\n",
    "## upstream\n",
    "input_dimension          = 12\n",
    "output_dimension         = 12\n",
    "hidden_dimmension        = 64\n",
    "attention_heads          = None\n",
    "encoder_number_of_layers = 8\n",
    "dim_feedforward          = 512\n",
    "kernel_size              = 3\n",
    "activation               ='gelu'\n",
    "dropout                  = 0.4\n",
    "# ---------------"
   ]
  },
  {
   "cell_type": "code",
   "execution_count": 5,
   "metadata": {},
   "outputs": [
    {
     "name": "stdout",
     "output_type": "stream",
     "text": [
      "{'loss_function_weight': 33, 'lr': 0.0005, 'targets': ['one_year_until_death'], 'weight_decay': 0}\n",
      "*************************************************************************************\n",
      "* loss_function_weight-33-lr-0.0005-targets-['one_year_until_death']-weight_decay-0 *\n",
      "*************************************************************************************\n",
      "\n",
      "\n",
      "training using device: cuda\n",
      "\n",
      "\n"
     ]
    },
    {
     "name": "stderr",
     "output_type": "stream",
     "text": [
      "/home/david/anaconda3/envs/thesis_env/lib/python3.11/site-packages/torch/nn/modules/transformer.py:218: UserWarning: enable_nested_tensor is True, but self.use_nested_tensor is False because  self.layers[0].self_attn.batch_first was not True\n",
      "  warnings.warn(f\"enable_nested_tensor is True, but self.use_nested_tensor is False because {why_not_sparsity_fast_path}\")\n"
     ]
    },
    {
     "name": "stdout",
     "output_type": "stream",
     "text": [
      "1320081\n"
     ]
    },
    {
     "name": "stderr",
     "output_type": "stream",
     "text": [
      "Within epoch loss (training) 4.28594: 100%|██████████| 4103/4103 [09:43<00:00,  7.03it/s]  \n",
      "Within epoch loss (validation) 3.97518: 100%|██████████| 832/832 [01:39<00:00,  8.39it/s]\n"
     ]
    },
    {
     "name": "stdout",
     "output_type": "stream",
     "text": [
      "New best aucpr was found, current best aucpr is 0.0435\n",
      "---------------------------------------------\n",
      "Epoch: 01 | Time: 11m 25s\n",
      "\tTrain Loss: 4.286\n",
      "\t Val. Loss: 3.975\n",
      "\t ROC-AUC: 0.625\n",
      "\t PR-AUC: 0.043\n",
      "\t TPR for FPR=0.6 Budget: 0.742\n",
      "\t Best Val. Loss: inf\n",
      "---------------------------------------------\n",
      "\n",
      "{'loss_function_weight': 33, 'lr': 0.0005, 'targets': ['one_year_until_death'], 'weight_decay': 0.0001}\n",
      "******************************************************************************************\n",
      "* loss_function_weight-33-lr-0.0005-targets-['one_year_until_death']-weight_decay-0.0001 *\n",
      "******************************************************************************************\n",
      "\n",
      "\n",
      "training using device: cuda\n",
      "\n",
      "\n"
     ]
    },
    {
     "name": "stderr",
     "output_type": "stream",
     "text": [
      "/home/david/anaconda3/envs/thesis_env/lib/python3.11/site-packages/torch/nn/modules/transformer.py:218: UserWarning: enable_nested_tensor is True, but self.use_nested_tensor is False because  self.layers[0].self_attn.batch_first was not True\n",
      "  warnings.warn(f\"enable_nested_tensor is True, but self.use_nested_tensor is False because {why_not_sparsity_fast_path}\")\n"
     ]
    },
    {
     "name": "stdout",
     "output_type": "stream",
     "text": [
      "1320081\n"
     ]
    },
    {
     "name": "stderr",
     "output_type": "stream",
     "text": [
      "Within epoch loss (training) 4.36804:  13%|█▎        | 525/4103 [01:13<08:18,  7.18it/s]\n"
     ]
    },
    {
     "ename": "KeyboardInterrupt",
     "evalue": "",
     "output_type": "error",
     "traceback": [
      "\u001b[0;31m---------------------------------------------------------------------------\u001b[0m",
      "\u001b[0;31mKeyboardInterrupt\u001b[0m                         Traceback (most recent call last)",
      "Cell \u001b[0;32mIn[5], line 31\u001b[0m\n\u001b[1;32m     19\u001b[0m variables \u001b[39m=\u001b[39m {\n\u001b[1;32m     20\u001b[0m     \u001b[39m'\u001b[39m\u001b[39mweight_decay\u001b[39m\u001b[39m'\u001b[39m: [\u001b[39m0\u001b[39m,\u001b[39m0.0001\u001b[39m,\u001b[39m0.0005\u001b[39m,\u001b[39m0.001\u001b[39m],\n\u001b[1;32m     21\u001b[0m     \u001b[39m'\u001b[39m\u001b[39mlr\u001b[39m\u001b[39m'\u001b[39m: [\u001b[39m0.0005\u001b[39m,\u001b[39m0.001\u001b[39m,\u001b[39m0.003\u001b[39m],\n\u001b[1;32m     22\u001b[0m     \u001b[39m'\u001b[39m\u001b[39mloss_function_weight\u001b[39m\u001b[39m'\u001b[39m: [\u001b[39m33\u001b[39m,\u001b[39m50\u001b[39m,\u001b[39m66\u001b[39m,\u001b[39m100\u001b[39m],\n\u001b[1;32m     23\u001b[0m     \u001b[39m'\u001b[39m\u001b[39mtargets\u001b[39m\u001b[39m'\u001b[39m: [[\u001b[39m'\u001b[39m\u001b[39mone_year_until_death\u001b[39m\u001b[39m'\u001b[39m],[\u001b[39m'\u001b[39m\u001b[39mDM\u001b[39m\u001b[39m'\u001b[39m],[\u001b[39m'\u001b[39m\u001b[39mAF\u001b[39m\u001b[39m'\u001b[39m]]\n\u001b[1;32m     24\u001b[0m }\n\u001b[1;32m     26\u001b[0m other_vars \u001b[39m=\u001b[39m {\n\u001b[1;32m     27\u001b[0m         \u001b[39m'\u001b[39m\u001b[39mnotebook\u001b[39m\u001b[39m'\u001b[39m: \u001b[39m'\u001b[39m\u001b[39m0.4\u001b[39m\u001b[39m'\u001b[39m,\n\u001b[1;32m     28\u001b[0m         \u001b[39m'\u001b[39m\u001b[39mdevice\u001b[39m\u001b[39m'\u001b[39m: torch\u001b[39m.\u001b[39mdevice(\u001b[39m'\u001b[39m\u001b[39mcuda\u001b[39m\u001b[39m'\u001b[39m \u001b[39mif\u001b[39;00m torch\u001b[39m.\u001b[39mcuda\u001b[39m.\u001b[39mis_available() \u001b[39melse\u001b[39;00m \u001b[39m'\u001b[39m\u001b[39mcpu\u001b[39m\u001b[39m'\u001b[39m)\n\u001b[1;32m     29\u001b[0m     }\n\u001b[0;32m---> 31\u001b[0m run_experiments(other_vars, constants, variables)\n",
      "File \u001b[0;32m~/Desktop/projects/thesis/combined_downstream_upstram/executors/train_on_local_machine_mps.py:353\u001b[0m, in \u001b[0;36mrun_experiments\u001b[0;34m(other_vars, constants, variables)\u001b[0m\n\u001b[1;32m    349\u001b[0m \u001b[39mprint\u001b[39m(\u001b[39m'\u001b[39m\u001b[39m*\u001b[39m\u001b[39m'\u001b[39m\u001b[39m*\u001b[39m\u001b[39mlen\u001b[39m(\u001b[39mf\u001b[39m\u001b[39m'\u001b[39m\u001b[39m* \u001b[39m\u001b[39m{\u001b[39;00mfolder_name\u001b[39m}\u001b[39;00m\u001b[39m *\u001b[39m\u001b[39m'\u001b[39m))\n\u001b[1;32m    351\u001b[0m long_description \u001b[39m=\u001b[39m \u001b[39m'\u001b[39m\u001b[39m-\u001b[39m\u001b[39m'\u001b[39m\u001b[39m.\u001b[39mjoin([\u001b[39mf\u001b[39m\u001b[39m'\u001b[39m\u001b[39m{\u001b[39;00mk\u001b[39m}\u001b[39;00m\u001b[39m-\u001b[39m\u001b[39m{\u001b[39;00mparams[k]\u001b[39m}\u001b[39;00m\u001b[39m'\u001b[39m \u001b[39mfor\u001b[39;00m k \u001b[39min\u001b[39;00m params\u001b[39m.\u001b[39mkeys()])\n\u001b[0;32m--> 353\u001b[0m best_aucper, rocauc_given_best_aucpr, tprforbudget_given_best_aucpr \u001b[39m=\u001b[39m trainer(\u001b[39m*\u001b[39;49m\u001b[39m*\u001b[39;49mparams)\n\u001b[1;32m    355\u001b[0m results[\u001b[39m'\u001b[39m\u001b[39mshort_description\u001b[39m\u001b[39m'\u001b[39m]\u001b[39m.\u001b[39mappend(folder_name)\n\u001b[1;32m    356\u001b[0m results[\u001b[39m'\u001b[39m\u001b[39mlong_description\u001b[39m\u001b[39m'\u001b[39m]\u001b[39m.\u001b[39mappend(long_description)\n",
      "File \u001b[0;32m~/Desktop/projects/thesis/combined_downstream_upstram/executors/train_on_local_machine_mps.py:165\u001b[0m, in \u001b[0;36mtrainer\u001b[0;34m(seed, metadata_file_path, data_folder_path, fillna, targets, batch_size, n_epochs, saving_path, clip, impute_only_missing, minimal_number_of_leads, leads, eval_metric, weight_decay, lr, verbosity, patience, loss_function_weight)\u001b[0m\n\u001b[1;32m    161\u001b[0m start_time \u001b[39m=\u001b[39m time\u001b[39m.\u001b[39mtime()\n\u001b[1;32m    163\u001b[0m \u001b[39m# train\u001b[39;00m\n\u001b[1;32m    164\u001b[0m \u001b[39m# number of leads (dictates training scheme):\u001b[39;00m\n\u001b[0;32m--> 165\u001b[0m train_loss, y_train, y_train_pred \u001b[39m=\u001b[39m train_epoch(model, \n\u001b[1;32m    166\u001b[0m                    train_generator, \n\u001b[1;32m    167\u001b[0m                    optimizer, \n\u001b[1;32m    168\u001b[0m                    criterion, \n\u001b[1;32m    169\u001b[0m                    clip, \n\u001b[1;32m    170\u001b[0m                    device\n\u001b[1;32m    171\u001b[0m                    )\n\u001b[1;32m    174\u001b[0m \u001b[39m# evaluate\u001b[39;00m\n\u001b[1;32m    175\u001b[0m valid_loss, y_val, y_val_pred \u001b[39m=\u001b[39m evaluate_epoch(model, \n\u001b[1;32m    176\u001b[0m                       validation_generator, \n\u001b[1;32m    177\u001b[0m                       criterion, \n\u001b[1;32m    178\u001b[0m                       device\n\u001b[1;32m    179\u001b[0m                       )\n",
      "File \u001b[0;32m~/Desktop/projects/thesis/combined_downstream_upstram/executors/train_on_local_machine_mps.py:391\u001b[0m, in \u001b[0;36mtrain_epoch\u001b[0;34m(model, iterator, optimizer, criterion, clip, device)\u001b[0m\n\u001b[1;32m    387\u001b[0m t \u001b[39m=\u001b[39m trange(T, desc\u001b[39m=\u001b[39m\u001b[39m'\u001b[39m\u001b[39mWithin epoch loss (training)\u001b[39m\u001b[39m'\u001b[39m, leave\u001b[39m=\u001b[39m\u001b[39mTrue\u001b[39;00m)\n\u001b[1;32m    389\u001b[0m \u001b[39mfor\u001b[39;00m i \u001b[39min\u001b[39;00m t:\n\u001b[1;32m    390\u001b[0m     \u001b[39m# get data\u001b[39;00m\n\u001b[0;32m--> 391\u001b[0m     X, y \u001b[39m=\u001b[39m \u001b[39mnext\u001b[39m(it)\n\u001b[1;32m    392\u001b[0m     y\u001b[39m=\u001b[39mnp\u001b[39m.\u001b[39msqueeze(y,\u001b[39m-\u001b[39m\u001b[39m1\u001b[39m)\n\u001b[1;32m    394\u001b[0m     \u001b[39m# don't run if there are NaNs\u001b[39;00m\n",
      "File \u001b[0;32m~/Desktop/projects/thesis/downstream_classification/dataloader/DataLoader.py:90\u001b[0m, in \u001b[0;36mDataGenerator.__getitem__\u001b[0;34m(self, index)\u001b[0m\n\u001b[1;32m     87\u001b[0m list_IDs_temp \u001b[39m=\u001b[39m [\u001b[39mself\u001b[39m\u001b[39m.\u001b[39mlist_IDs[k] \u001b[39mfor\u001b[39;00m k \u001b[39min\u001b[39;00m indices]\n\u001b[1;32m     89\u001b[0m \u001b[39m# Generate data\u001b[39;00m\n\u001b[0;32m---> 90\u001b[0m X,y \u001b[39m=\u001b[39m \u001b[39mself\u001b[39;49m\u001b[39m.\u001b[39;49m__data_generation(list_IDs_temp)\n\u001b[1;32m     92\u001b[0m \u001b[39mreturn\u001b[39;00m X,y\n",
      "File \u001b[0;32m~/Desktop/projects/thesis/downstream_classification/dataloader/DataLoader.py:59\u001b[0m, in \u001b[0;36mDataGenerator.__data_generation\u001b[0;34m(self, list_IDs_temp)\u001b[0m\n\u001b[1;32m     54\u001b[0m \u001b[39mdef\u001b[39;00m \u001b[39m__data_generation\u001b[39m(\u001b[39mself\u001b[39m, list_IDs_temp):\n\u001b[1;32m     55\u001b[0m \u001b[39m    \u001b[39m\u001b[39m\"\"\"\u001b[39;00m\n\u001b[1;32m     56\u001b[0m \u001b[39m    Get a list of persons IDs and return a batch of signals.\u001b[39;00m\n\u001b[1;32m     57\u001b[0m \u001b[39m    \"\"\"\u001b[39;00m\n\u001b[0;32m---> 59\u001b[0m     samples \u001b[39m=\u001b[39m [\u001b[39mself\u001b[39;49m\u001b[39m.\u001b[39;49m_get_sample(signal_index) \u001b[39mfor\u001b[39;49;00m signal_index \u001b[39min\u001b[39;49;00m list_IDs_temp]\n\u001b[1;32m     60\u001b[0m     X \u001b[39m=\u001b[39m np\u001b[39m.\u001b[39marray([sample[\u001b[39m0\u001b[39m] \u001b[39mfor\u001b[39;00m sample \u001b[39min\u001b[39;00m samples])\n\u001b[1;32m     61\u001b[0m     y \u001b[39m=\u001b[39m np\u001b[39m.\u001b[39marray([sample[\u001b[39m1\u001b[39m] \u001b[39mfor\u001b[39;00m sample \u001b[39min\u001b[39;00m samples]) \n",
      "File \u001b[0;32m~/Desktop/projects/thesis/downstream_classification/dataloader/DataLoader.py:59\u001b[0m, in \u001b[0;36m<listcomp>\u001b[0;34m(.0)\u001b[0m\n\u001b[1;32m     54\u001b[0m \u001b[39mdef\u001b[39;00m \u001b[39m__data_generation\u001b[39m(\u001b[39mself\u001b[39m, list_IDs_temp):\n\u001b[1;32m     55\u001b[0m \u001b[39m    \u001b[39m\u001b[39m\"\"\"\u001b[39;00m\n\u001b[1;32m     56\u001b[0m \u001b[39m    Get a list of persons IDs and return a batch of signals.\u001b[39;00m\n\u001b[1;32m     57\u001b[0m \u001b[39m    \"\"\"\u001b[39;00m\n\u001b[0;32m---> 59\u001b[0m     samples \u001b[39m=\u001b[39m [\u001b[39mself\u001b[39;49m\u001b[39m.\u001b[39;49m_get_sample(signal_index) \u001b[39mfor\u001b[39;00m signal_index \u001b[39min\u001b[39;00m list_IDs_temp]\n\u001b[1;32m     60\u001b[0m     X \u001b[39m=\u001b[39m np\u001b[39m.\u001b[39marray([sample[\u001b[39m0\u001b[39m] \u001b[39mfor\u001b[39;00m sample \u001b[39min\u001b[39;00m samples])\n\u001b[1;32m     61\u001b[0m     y \u001b[39m=\u001b[39m np\u001b[39m.\u001b[39marray([sample[\u001b[39m1\u001b[39m] \u001b[39mfor\u001b[39;00m sample \u001b[39min\u001b[39;00m samples]) \n",
      "File \u001b[0;32m~/Desktop/projects/thesis/downstream_classification/dataloader/DataLoader.py:41\u001b[0m, in \u001b[0;36mDataGenerator._get_sample\u001b[0;34m(self, signal_index)\u001b[0m\n\u001b[1;32m     33\u001b[0m \u001b[39m\u001b[39m\u001b[39m\"\"\"\u001b[39;00m\n\u001b[1;32m     34\u001b[0m \u001b[39mload the relevant <lead> reading .npy file from <data_folder_path>. \u001b[39;00m\n\u001b[1;32m     35\u001b[0m \u001b[39mInputs:\u001b[39;00m\n\u001b[1;32m     36\u001b[0m \u001b[39m- signal_index: int\u001b[39;00m\n\u001b[1;32m     37\u001b[0m \u001b[39m- data_folder_path:str. The path to the folder when the desired file can be loaded from\u001b[39;00m\n\u001b[1;32m     38\u001b[0m \u001b[39m\"\"\"\u001b[39;00m\n\u001b[1;32m     40\u001b[0m file_name \u001b[39m=\u001b[39m \u001b[39mf\u001b[39m\u001b[39m'\u001b[39m\u001b[39m{\u001b[39;00msignal_index\u001b[39m}\u001b[39;00m\u001b[39m.npy\u001b[39m\u001b[39m'\u001b[39m\n\u001b[0;32m---> 41\u001b[0m X \u001b[39m=\u001b[39m np\u001b[39m.\u001b[39;49mload(\u001b[39mself\u001b[39;49m\u001b[39m.\u001b[39;49mdata_path\u001b[39m+\u001b[39;49mfile_name,allow_pickle\u001b[39m=\u001b[39;49m\u001b[39mTrue\u001b[39;49;00m)\n\u001b[1;32m     42\u001b[0m y \u001b[39m=\u001b[39m \u001b[39mself\u001b[39m\u001b[39m.\u001b[39mmetadata[\u001b[39mself\u001b[39m\u001b[39m.\u001b[39mmetadata[\u001b[39m'\u001b[39m\u001b[39mreading\u001b[39m\u001b[39m'\u001b[39m] \u001b[39m==\u001b[39m signal_index][\u001b[39mself\u001b[39m\u001b[39m.\u001b[39mtargets]\u001b[39m.\u001b[39mvalues\n\u001b[1;32m     43\u001b[0m \u001b[39mif\u001b[39;00m \u001b[39mlen\u001b[39m(y)\u001b[39m>\u001b[39m\u001b[39m1\u001b[39m:\n",
      "File \u001b[0;32m~/anaconda3/envs/thesis_env/lib/python3.11/site-packages/numpy/lib/npyio.py:412\u001b[0m, in \u001b[0;36mload\u001b[0;34m(file, mmap_mode, allow_pickle, fix_imports, encoding, max_header_size)\u001b[0m\n\u001b[1;32m    410\u001b[0m _ZIP_SUFFIX \u001b[39m=\u001b[39m \u001b[39mb\u001b[39m\u001b[39m'\u001b[39m\u001b[39mPK\u001b[39m\u001b[39m\\x05\u001b[39;00m\u001b[39m\\x06\u001b[39;00m\u001b[39m'\u001b[39m \u001b[39m# empty zip files start with this\u001b[39;00m\n\u001b[1;32m    411\u001b[0m N \u001b[39m=\u001b[39m \u001b[39mlen\u001b[39m(\u001b[39mformat\u001b[39m\u001b[39m.\u001b[39mMAGIC_PREFIX)\n\u001b[0;32m--> 412\u001b[0m magic \u001b[39m=\u001b[39m fid\u001b[39m.\u001b[39mread(N)\n\u001b[1;32m    413\u001b[0m \u001b[39m# If the file size is less than N, we need to make sure not\u001b[39;00m\n\u001b[1;32m    414\u001b[0m \u001b[39m# to seek past the beginning of the file\u001b[39;00m\n\u001b[1;32m    415\u001b[0m fid\u001b[39m.\u001b[39mseek(\u001b[39m-\u001b[39m\u001b[39mmin\u001b[39m(N, \u001b[39mlen\u001b[39m(magic)), \u001b[39m1\u001b[39m)  \u001b[39m# back-up\u001b[39;00m\n",
      "\u001b[0;31mKeyboardInterrupt\u001b[0m: "
     ]
    },
    {
     "data": {
      "image/png": "[encoded data removed]",
      "text/plain": [
       "<Figure size 1000x300 with 2 Axes>"
      ]
     },
     "metadata": {},
     "output_type": "display_data"
    }
   ],
   "source": [
    "from combined_downstream_upstram.executors.train_on_local_machine_mps import run_experiments, trainer\n",
    "\n",
    "constants = {\n",
    "    'seed':42,\n",
    "    'metadata_file_path': './downstream_classification/data/combined_data/metadata_only_existant_readings_09042023.csv',\n",
    "    'data_folder_path': './downstream_classification/data/individual-signals/',\n",
    "    'fillna': 0,\n",
    "    'n_epochs':60,\n",
    "    'batch_size':64, \n",
    "    'verbosity': False,\n",
    "    'patience':5,\n",
    "    'clip':1,\n",
    "    'impute_only_missing': True,\n",
    "    'minimal_number_of_leads': None,\n",
    "    'leads': ['LI', 'LII', 'LIII', 'aVF', 'aVL', 'aVR','V1','V2','V3','V4','V5','V6'],\n",
    "    'eval_metric': 'aucpr',\n",
    "    'minimal_number_of_leads': None,\n",
    "}\n",
    "variables = {\n",
    "    'weight_decay': [0,0.0001,0.0005,0.001],\n",
    "    'lr': [0.0005,0.001,0.003],\n",
    "    'loss_function_weight': [33,50,66,100],\n",
    "    'targets': [['one_year_until_death'],['DM'],['AF']]\n",
    "}\n",
    "\n",
    "other_vars = {\n",
    "        'notebook': '0.4',\n",
    "        'device': torch.device('cuda' if torch.cuda.is_available() else 'cpu')\n",
    "    }\n",
    "\n",
    "run_experiments(other_vars, constants, variables)\n",
    "\n"
   ]
  },
  {
   "attachments": {},
   "cell_type": "markdown",
   "metadata": {},
   "source": [
    "# Sandbox"
   ]
  },
  {
   "cell_type": "code",
   "execution_count": null,
   "metadata": {},
   "outputs": [],
   "source": [
    "import sys\n",
    "sys.exit(0)"
   ]
  },
  {
   "cell_type": "code",
   "execution_count": null,
   "metadata": {},
   "outputs": [],
   "source": [
    "constants = {\n",
    "    'seed':42,\n",
    "    'metadata_file_path': './downstream_classification/data/combined_data/metadata_only_existant_readings_09042023.csv',\n",
    "    'data_folder_path': './downstream_classification/data/individual-signals/',\n",
    "    'fillna': 0,\n",
    "    'n_epochs':60,\n",
    "    'batch_size':64, \n",
    "    'verbosity': False,\n",
    "    'patience':5,\n",
    "    'clip':1,\n",
    "    'impute_only_missing': True,\n",
    "    'minimal_number_of_leads': None,\n",
    "    'leads': [['LI', 'LII', 'LIII', 'aVF', 'aVL', 'aVR','V1','V2','V3','V4','V5','V6']],\n",
    "    'eval_metric': 'aucpr',\n",
    "    'minimal_number_of_leads': None,\n",
    "}\n",
    "variables = {\n",
    "    'weight_decay': [0,0.0001,0.0005,0.001],\n",
    "    'lr': [0.0005,0.001,0.003],\n",
    "    'loss_function_weight': [33,50,66,100],\n",
    "    'targets': ['one_year_until_death','DM','AF']\n",
    "}\n",
    "\n",
    "other_vars = {\n",
    "        'notebook': '0.4',\n",
    "        'device': torch.device('cuda' if torch.cuda.is_available() else 'cpu')\n",
    "    }\n",
    "\n",
    "# things to be added internally:\n",
    "{\n",
    "    'saving_path':None,\n",
    "}\n",
    "\n",
    "# Things I want to see on the table\n",
    "{\n",
    "    # 'seed':42,\n",
    "    # 'metadata_file_path': './downstream_classification/data/combined_data/metadata_only_existant_readings_09042023.csv',\n",
    "    # 'data_folder_path': './downstream_classification/data/individual-signals/',\n",
    "    # 'fillna': 'irrelevant',\n",
    "    # 'targets': [],\n",
    "    # 'batch_size':[], \n",
    "    # 'n_epochs':[],\n",
    "    # 'saving_path':[],\n",
    "    # 'clip':1,\n",
    "    # 'impute_only_missing': True,\n",
    "    # 'minimal_number_of_leads': None,\n",
    "    # 'leads': [['LI', 'LII', 'LIII', 'aVF', 'aVL', 'aVR','V1','V2','V3','V4','V5','V6']],\n",
    "    # 'eval_metric': 'loss',\n",
    "    # 'weight_decay': 0,\n",
    "    # 'lr': 0.001,\n",
    "    # 'verbosity': False,\n",
    "    # 'patience':np.inf,\n",
    "    # 'loss_function_weight': None,\n",
    "}"
   ]
  },
  {
   "cell_type": "code",
   "execution_count": null,
   "metadata": {},
   "outputs": [],
   "source": [
    "a = {'s':54}\n",
    "b = {'a':4}\n",
    "{**a,**b}"
   ]
  },
  {
   "cell_type": "code",
   "execution_count": null,
   "metadata": {},
   "outputs": [],
   "source": [
    "from sklearn.model_selection import ParameterGrid\n",
    "\n",
    "hyperparameters = {\n",
    "    'C': [0.1, 1, 10, 100],\n",
    "    'gamma': [0.001, 0.01, 0.1],\n",
    "    'kernel': ['rbf', 'linear']\n",
    "}\n",
    "\n",
    "grid = ParameterGrid(hyperparameters)\n",
    "\n",
    "# Iterate over the grid of options\n",
    "for params in grid:\n",
    "    print(params)\n"
   ]
  },
  {
   "cell_type": "code",
   "execution_count": null,
   "metadata": {},
   "outputs": [],
   "source": [
    "'-'.join([f'{k}-{params[k]}' for k in params.keys()])"
   ]
  },
  {
   "cell_type": "code",
   "execution_count": null,
   "metadata": {},
   "outputs": [],
   "source": []
  }
 ],
 "metadata": {
  "kernelspec": {
   "display_name": "torch-gpu",
   "language": "python",
   "name": "python3"
  },
  "language_info": {
   "codemirror_mode": {
    "name": "ipython",
    "version": 3
   },
   "file_extension": ".py",
   "mimetype": "text/x-python",
   "name": "python",
   "nbconvert_exporter": "python",
   "pygments_lexer": "ipython3",
   "version": "3.11.5"
  },
  "orig_nbformat": 4
 },
 "nbformat": 4,
 "nbformat_minor": 2
}
