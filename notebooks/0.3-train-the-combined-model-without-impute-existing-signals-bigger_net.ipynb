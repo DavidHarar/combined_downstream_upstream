{
 "cells": [
  {
   "attachments": {},
   "cell_type": "markdown",
   "metadata": {},
   "source": [
    "# Summary\n",
    "In this notebook we construct a combined model, that is expecting a 12-leads ECG readings, first impute their empty values (using the upstream model's weights) and then takes the imputed ECG signal and use it to predict the target(s).  \n",
    "We do not train anything yet."
   ]
  },
  {
   "attachments": {},
   "cell_type": "markdown",
   "metadata": {},
   "source": [
    "# Setup"
   ]
  },
  {
   "cell_type": "code",
   "execution_count": 1,
   "metadata": {},
   "outputs": [],
   "source": [
    "import os\n",
    "os.chdir('/home/david/Desktop/projects/thesis/')"
   ]
  },
  {
   "cell_type": "code",
   "execution_count": 2,
   "metadata": {},
   "outputs": [],
   "source": [
    "def get_best_model(folder_path = './upstream_seq2seq/models/', model_name = 'transformer_cnn_4heads'):\n",
    "    \"\"\"\n",
    "    Since that in the upstream stage we save basically every model, it is important to \n",
    "    take the one that minimized the loss over the validation set.\n",
    "    \"\"\"\n",
    "    model_files = [x for x in os.listdir(folder_path) if model_name in x and 'loss' not in x]\n",
    "\n",
    "    # get timestemps\n",
    "    timestemps = [float(x.replace('transformer_cnn_4heads_', '').replace('.pt','')) for x in model_files]\n",
    "    timestemps.sort()\n",
    "\n",
    "    # get best model (the last one that has been saved)\n",
    "    best_model_path = folder_path+model_name+'_'+str(timestemps[-1])+'.pt'\n",
    "    return best_model_path\n",
    "best_model_path = get_best_model(folder_path = './upstream_seq2seq/models/', model_name = 'transformer_cnn_4heads')"
   ]
  },
  {
   "cell_type": "code",
   "execution_count": 3,
   "metadata": {},
   "outputs": [],
   "source": [
    "import torch\n",
    "\n",
    "# hyperparams to be changed if needed\n",
    "downstream_path = './downstream_classification/models/3.0-inception-bs128-balanced-death-lr0.001-decay0-aucpr-weighted33.pt'\n",
    "upstream_path = best_model_path\n",
    "\n",
    "## upstream\n",
    "input_dimension          = 12\n",
    "output_dimension         = 12\n",
    "hidden_dimmension        = 128\n",
    "attention_heads          = 4\n",
    "encoder_number_of_layers = 8\n",
    "dim_feedforward          = 512\n",
    "kernel_size              = 3\n",
    "activation               ='gelu'\n",
    "dropout                  = 0.4\n",
    "# ---------------\n",
    "\n",
    "device =  torch.device('cuda' if torch.cuda.is_available() else 'cpu')"
   ]
  },
  {
   "cell_type": "code",
   "execution_count": 4,
   "metadata": {},
   "outputs": [
    {
     "name": "stderr",
     "output_type": "stream",
     "text": [
      "/home/david/anaconda3/envs/thesis_env/lib/python3.11/site-packages/tqdm/auto.py:21: TqdmWarning: IProgress not found. Please update jupyter and ipywidgets. See https://ipywidgets.readthedocs.io/en/stable/user_install.html\n",
      "  from .autonotebook import tqdm as notebook_tqdm\n"
     ]
    },
    {
     "name": "stdout",
     "output_type": "stream",
     "text": [
      "cuda\n",
      "Starting Experiment\n",
      "\n",
      "\n",
      "training using device: cuda\n",
      "\n",
      "\n",
      "Num attention heads: 1\n",
      "1320081\n"
     ]
    },
    {
     "name": "stderr",
     "output_type": "stream",
     "text": [
      "Within epoch loss (training) 4.28771: 100%|██████████| 4103/4103 [08:02<00:00,  8.51it/s]\n",
      "Within epoch loss (validation) 3.98408: 100%|██████████| 832/832 [01:27<00:00,  9.47it/s]\n",
      "/home/david/anaconda3/envs/thesis_env/lib/python3.11/site-packages/seaborn/_oldcore.py:1498: FutureWarning: is_categorical_dtype is deprecated and will be removed in a future version. Use isinstance(dtype, CategoricalDtype) instead\n",
      "  if pd.api.types.is_categorical_dtype(vector):\n",
      "/home/david/anaconda3/envs/thesis_env/lib/python3.11/site-packages/seaborn/_oldcore.py:1498: FutureWarning: is_categorical_dtype is deprecated and will be removed in a future version. Use isinstance(dtype, CategoricalDtype) instead\n",
      "  if pd.api.types.is_categorical_dtype(vector):\n",
      "/home/david/anaconda3/envs/thesis_env/lib/python3.11/site-packages/seaborn/_oldcore.py:1498: FutureWarning: is_categorical_dtype is deprecated and will be removed in a future version. Use isinstance(dtype, CategoricalDtype) instead\n",
      "  if pd.api.types.is_categorical_dtype(vector):\n",
      "/home/david/anaconda3/envs/thesis_env/lib/python3.11/site-packages/seaborn/_oldcore.py:1498: FutureWarning: is_categorical_dtype is deprecated and will be removed in a future version. Use isinstance(dtype, CategoricalDtype) instead\n",
      "  if pd.api.types.is_categorical_dtype(vector):\n",
      "/home/david/anaconda3/envs/thesis_env/lib/python3.11/site-packages/seaborn/_oldcore.py:1119: FutureWarning: use_inf_as_na option is deprecated and will be removed in a future version. Convert inf values to NaN before operating instead.\n",
      "  with pd.option_context('mode.use_inf_as_na', True):\n"
     ]
    },
    {
     "name": "stdout",
     "output_type": "stream",
     "text": [
      "New best validation loss was found, current best valid loss is 3.9841\n"
     ]
    },
    {
     "name": "stderr",
     "output_type": "stream",
     "text": [
      "/home/david/anaconda3/envs/thesis_env/lib/python3.11/site-packages/seaborn/_oldcore.py:1498: FutureWarning: is_categorical_dtype is deprecated and will be removed in a future version. Use isinstance(dtype, CategoricalDtype) instead\n",
      "  if pd.api.types.is_categorical_dtype(vector):\n",
      "/home/david/anaconda3/envs/thesis_env/lib/python3.11/site-packages/seaborn/_oldcore.py:1498: FutureWarning: is_categorical_dtype is deprecated and will be removed in a future version. Use isinstance(dtype, CategoricalDtype) instead\n",
      "  if pd.api.types.is_categorical_dtype(vector):\n",
      "/home/david/anaconda3/envs/thesis_env/lib/python3.11/site-packages/seaborn/_oldcore.py:1498: FutureWarning: is_categorical_dtype is deprecated and will be removed in a future version. Use isinstance(dtype, CategoricalDtype) instead\n",
      "  if pd.api.types.is_categorical_dtype(vector):\n",
      "/home/david/anaconda3/envs/thesis_env/lib/python3.11/site-packages/seaborn/_oldcore.py:1498: FutureWarning: is_categorical_dtype is deprecated and will be removed in a future version. Use isinstance(dtype, CategoricalDtype) instead\n",
      "  if pd.api.types.is_categorical_dtype(vector):\n",
      "/home/david/anaconda3/envs/thesis_env/lib/python3.11/site-packages/seaborn/_oldcore.py:1119: FutureWarning: use_inf_as_na option is deprecated and will be removed in a future version. Convert inf values to NaN before operating instead.\n",
      "  with pd.option_context('mode.use_inf_as_na', True):\n"
     ]
    },
    {
     "name": "stdout",
     "output_type": "stream",
     "text": [
      "---------------------------------------------\n",
      "Epoch: 01 | Time: 9m 31s\n",
      "\tTrain Loss: 4.288\n",
      "\t Val. Loss: 3.984\n",
      "\t ROC-AUC: 0.624\n",
      "\t PR-AUC: 0.043\n",
      "\t TPR for FPR=0.6 Budget: 0.746\n",
      "\t Best Val. Loss: 3.984\n",
      "---------------------------------------------\n"
     ]
    },
    {
     "name": "stderr",
     "output_type": "stream",
     "text": [
      "Within epoch loss (training) 4.22669: 100%|██████████| 4103/4103 [08:10<00:00,  8.36it/s]\n",
      "Within epoch loss (validation) 3.98634: 100%|██████████| 832/832 [01:26<00:00,  9.63it/s]\n"
     ]
    },
    {
     "name": "stdout",
     "output_type": "stream",
     "text": [
      "---------------------------------------------\n",
      "Epoch: 02 | Time: 9m 37s\n",
      "\tTrain Loss: 4.227\n",
      "\t Val. Loss: 3.986\n",
      "\t ROC-AUC: 0.628\n",
      "\t PR-AUC: 0.045\n",
      "\t TPR for FPR=0.6 Budget: 0.752\n",
      "\t Best Val. Loss: 3.984\n",
      "---------------------------------------------\n"
     ]
    },
    {
     "name": "stderr",
     "output_type": "stream",
     "text": [
      "Within epoch loss (training) 4.19206: 100%|██████████| 4103/4103 [08:04<00:00,  8.47it/s]\n",
      "Within epoch loss (validation) 3.98994: 100%|██████████| 832/832 [01:25<00:00,  9.74it/s]\n"
     ]
    },
    {
     "name": "stdout",
     "output_type": "stream",
     "text": [
      "---------------------------------------------\n",
      "Epoch: 03 | Time: 9m 30s\n",
      "\tTrain Loss: 4.192\n",
      "\t Val. Loss: 3.990\n",
      "\t ROC-AUC: 0.635\n",
      "\t PR-AUC: 0.047\n",
      "\t TPR for FPR=0.6 Budget: 0.751\n",
      "\t Best Val. Loss: 3.984\n",
      "---------------------------------------------\n"
     ]
    },
    {
     "name": "stderr",
     "output_type": "stream",
     "text": [
      "Within epoch loss (training) 4.15521: 100%|██████████| 4103/4103 [08:05<00:00,  8.45it/s]\n",
      "Within epoch loss (validation) 4.02045: 100%|██████████| 832/832 [01:25<00:00,  9.78it/s]\n"
     ]
    },
    {
     "name": "stdout",
     "output_type": "stream",
     "text": [
      "---------------------------------------------\n",
      "Epoch: 04 | Time: 9m 30s\n",
      "\tTrain Loss: 4.155\n",
      "\t Val. Loss: 4.020\n",
      "\t ROC-AUC: 0.636\n",
      "\t PR-AUC: 0.047\n",
      "\t TPR for FPR=0.6 Budget: 0.763\n",
      "\t Best Val. Loss: 3.984\n",
      "---------------------------------------------\n"
     ]
    },
    {
     "name": "stderr",
     "output_type": "stream",
     "text": [
      "Within epoch loss (training) 4.12744: 100%|██████████| 4103/4103 [08:02<00:00,  8.51it/s]\n",
      "Within epoch loss (validation) 4.03554: 100%|██████████| 832/832 [01:25<00:00,  9.72it/s]\n"
     ]
    },
    {
     "name": "stdout",
     "output_type": "stream",
     "text": [
      "---------------------------------------------\n",
      "Epoch: 05 | Time: 9m 27s\n",
      "\tTrain Loss: 4.127\n",
      "\t Val. Loss: 4.036\n",
      "\t ROC-AUC: 0.631\n",
      "\t PR-AUC: 0.046\n",
      "\t TPR for FPR=0.6 Budget: 0.747\n",
      "\t Best Val. Loss: 3.984\n",
      "---------------------------------------------\n"
     ]
    },
    {
     "name": "stderr",
     "output_type": "stream",
     "text": [
      "Within epoch loss (training) 4.10314: 100%|██████████| 4103/4103 [08:29<00:00,  8.05it/s]  \n",
      "Within epoch loss (validation) 4.09536: 100%|██████████| 832/832 [01:27<00:00,  9.54it/s]\n"
     ]
    },
    {
     "name": "stdout",
     "output_type": "stream",
     "text": [
      "---------------------------------------------\n",
      "Epoch: 06 | Time: 9m 56s\n",
      "\tTrain Loss: 4.103\n",
      "\t Val. Loss: 4.095\n",
      "\t ROC-AUC: 0.636\n",
      "\t PR-AUC: 0.046\n",
      "\t TPR for FPR=0.6 Budget: 0.762\n",
      "\t Best Val. Loss: 3.984\n",
      "---------------------------------------------\n"
     ]
    },
    {
     "name": "stderr",
     "output_type": "stream",
     "text": [
      "Within epoch loss (training) 4.05484:  78%|███████▊  | 3198/4103 [06:29<01:50,  8.21it/s]  \n"
     ]
    },
    {
     "ename": "KeyboardInterrupt",
     "evalue": "",
     "output_type": "error",
     "traceback": [
      "\u001b[0;31m---------------------------------------------------------------------------\u001b[0m",
      "\u001b[0;31mKeyboardInterrupt\u001b[0m                         Traceback (most recent call last)",
      "Cell \u001b[0;32mIn[4], line 30\u001b[0m\n\u001b[1;32m     28\u001b[0m \u001b[39m# run\u001b[39;00m\n\u001b[1;32m     29\u001b[0m \u001b[39mprint\u001b[39m(\u001b[39m'\u001b[39m\u001b[39mStarting Experiment\u001b[39m\u001b[39m'\u001b[39m)\n\u001b[0;32m---> 30\u001b[0m trainer(\u001b[39m*\u001b[39;49m\u001b[39m*\u001b[39;49mconfig)\n",
      "File \u001b[0;32m~/Desktop/projects/thesis/combined_downstream_upstram/executors/train_on_local_machine_mps.py:165\u001b[0m, in \u001b[0;36mtrainer\u001b[0;34m(seed, metadata_file_path, data_folder_path, fillna, targets, batch_size, n_epochs, saving_path, clip, impute_only_missing, minimal_number_of_leads, leads, eval_metric, weight_decay, lr, verbosity, patience, loss_function_weight)\u001b[0m\n\u001b[1;32m    161\u001b[0m start_time \u001b[39m=\u001b[39m time\u001b[39m.\u001b[39mtime()\n\u001b[1;32m    163\u001b[0m \u001b[39m# train\u001b[39;00m\n\u001b[1;32m    164\u001b[0m \u001b[39m# number of leads (dictates training scheme):\u001b[39;00m\n\u001b[0;32m--> 165\u001b[0m train_loss, y_train, y_train_pred \u001b[39m=\u001b[39m train_epoch(model, \n\u001b[1;32m    166\u001b[0m                    train_generator, \n\u001b[1;32m    167\u001b[0m                    optimizer, \n\u001b[1;32m    168\u001b[0m                    criterion, \n\u001b[1;32m    169\u001b[0m                    clip, \n\u001b[1;32m    170\u001b[0m                    device\n\u001b[1;32m    171\u001b[0m                    )\n\u001b[1;32m    174\u001b[0m \u001b[39m# evaluate\u001b[39;00m\n\u001b[1;32m    175\u001b[0m valid_loss, y_val, y_val_pred \u001b[39m=\u001b[39m evaluate_epoch(model, \n\u001b[1;32m    176\u001b[0m                       validation_generator, \n\u001b[1;32m    177\u001b[0m                       criterion, \n\u001b[1;32m    178\u001b[0m                       device\n\u001b[1;32m    179\u001b[0m                       )\n",
      "File \u001b[0;32m~/Desktop/projects/thesis/combined_downstream_upstram/executors/train_on_local_machine_mps.py:395\u001b[0m, in \u001b[0;36mtrain_epoch\u001b[0;34m(model, iterator, optimizer, criterion, clip, device)\u001b[0m\n\u001b[1;32m    391\u001b[0m t \u001b[39m=\u001b[39m trange(T, desc\u001b[39m=\u001b[39m\u001b[39m'\u001b[39m\u001b[39mWithin epoch loss (training)\u001b[39m\u001b[39m'\u001b[39m, leave\u001b[39m=\u001b[39m\u001b[39mTrue\u001b[39;00m)\n\u001b[1;32m    393\u001b[0m \u001b[39mfor\u001b[39;00m i \u001b[39min\u001b[39;00m t:\n\u001b[1;32m    394\u001b[0m     \u001b[39m# get data\u001b[39;00m\n\u001b[0;32m--> 395\u001b[0m     X, y \u001b[39m=\u001b[39m \u001b[39mnext\u001b[39m(it)\n\u001b[1;32m    396\u001b[0m     y\u001b[39m=\u001b[39mnp\u001b[39m.\u001b[39msqueeze(y,\u001b[39m-\u001b[39m\u001b[39m1\u001b[39m)\n\u001b[1;32m    398\u001b[0m     \u001b[39m# don't run if there are NaNs\u001b[39;00m\n",
      "File \u001b[0;32m~/Desktop/projects/thesis/downstream_classification/dataloader/DataLoader.py:90\u001b[0m, in \u001b[0;36mDataGenerator.__getitem__\u001b[0;34m(self, index)\u001b[0m\n\u001b[1;32m     87\u001b[0m list_IDs_temp \u001b[39m=\u001b[39m [\u001b[39mself\u001b[39m\u001b[39m.\u001b[39mlist_IDs[k] \u001b[39mfor\u001b[39;00m k \u001b[39min\u001b[39;00m indices]\n\u001b[1;32m     89\u001b[0m \u001b[39m# Generate data\u001b[39;00m\n\u001b[0;32m---> 90\u001b[0m X,y \u001b[39m=\u001b[39m \u001b[39mself\u001b[39;49m\u001b[39m.\u001b[39;49m__data_generation(list_IDs_temp)\n\u001b[1;32m     92\u001b[0m \u001b[39mreturn\u001b[39;00m X,y\n",
      "File \u001b[0;32m~/Desktop/projects/thesis/downstream_classification/dataloader/DataLoader.py:59\u001b[0m, in \u001b[0;36mDataGenerator.__data_generation\u001b[0;34m(self, list_IDs_temp)\u001b[0m\n\u001b[1;32m     54\u001b[0m \u001b[39mdef\u001b[39;00m \u001b[39m__data_generation\u001b[39m(\u001b[39mself\u001b[39m, list_IDs_temp):\n\u001b[1;32m     55\u001b[0m \u001b[39m    \u001b[39m\u001b[39m\"\"\"\u001b[39;00m\n\u001b[1;32m     56\u001b[0m \u001b[39m    Get a list of persons IDs and return a batch of signals.\u001b[39;00m\n\u001b[1;32m     57\u001b[0m \u001b[39m    \"\"\"\u001b[39;00m\n\u001b[0;32m---> 59\u001b[0m     samples \u001b[39m=\u001b[39m [\u001b[39mself\u001b[39;49m\u001b[39m.\u001b[39;49m_get_sample(signal_index) \u001b[39mfor\u001b[39;49;00m signal_index \u001b[39min\u001b[39;49;00m list_IDs_temp]\n\u001b[1;32m     60\u001b[0m     X \u001b[39m=\u001b[39m np\u001b[39m.\u001b[39marray([sample[\u001b[39m0\u001b[39m] \u001b[39mfor\u001b[39;00m sample \u001b[39min\u001b[39;00m samples])\n\u001b[1;32m     61\u001b[0m     y \u001b[39m=\u001b[39m np\u001b[39m.\u001b[39marray([sample[\u001b[39m1\u001b[39m] \u001b[39mfor\u001b[39;00m sample \u001b[39min\u001b[39;00m samples]) \n",
      "File \u001b[0;32m~/Desktop/projects/thesis/downstream_classification/dataloader/DataLoader.py:59\u001b[0m, in \u001b[0;36m<listcomp>\u001b[0;34m(.0)\u001b[0m\n\u001b[1;32m     54\u001b[0m \u001b[39mdef\u001b[39;00m \u001b[39m__data_generation\u001b[39m(\u001b[39mself\u001b[39m, list_IDs_temp):\n\u001b[1;32m     55\u001b[0m \u001b[39m    \u001b[39m\u001b[39m\"\"\"\u001b[39;00m\n\u001b[1;32m     56\u001b[0m \u001b[39m    Get a list of persons IDs and return a batch of signals.\u001b[39;00m\n\u001b[1;32m     57\u001b[0m \u001b[39m    \"\"\"\u001b[39;00m\n\u001b[0;32m---> 59\u001b[0m     samples \u001b[39m=\u001b[39m [\u001b[39mself\u001b[39;49m\u001b[39m.\u001b[39;49m_get_sample(signal_index) \u001b[39mfor\u001b[39;00m signal_index \u001b[39min\u001b[39;00m list_IDs_temp]\n\u001b[1;32m     60\u001b[0m     X \u001b[39m=\u001b[39m np\u001b[39m.\u001b[39marray([sample[\u001b[39m0\u001b[39m] \u001b[39mfor\u001b[39;00m sample \u001b[39min\u001b[39;00m samples])\n\u001b[1;32m     61\u001b[0m     y \u001b[39m=\u001b[39m np\u001b[39m.\u001b[39marray([sample[\u001b[39m1\u001b[39m] \u001b[39mfor\u001b[39;00m sample \u001b[39min\u001b[39;00m samples]) \n",
      "File \u001b[0;32m~/Desktop/projects/thesis/downstream_classification/dataloader/DataLoader.py:41\u001b[0m, in \u001b[0;36mDataGenerator._get_sample\u001b[0;34m(self, signal_index)\u001b[0m\n\u001b[1;32m     33\u001b[0m \u001b[39m\u001b[39m\u001b[39m\"\"\"\u001b[39;00m\n\u001b[1;32m     34\u001b[0m \u001b[39mload the relevant <lead> reading .npy file from <data_folder_path>. \u001b[39;00m\n\u001b[1;32m     35\u001b[0m \u001b[39mInputs:\u001b[39;00m\n\u001b[1;32m     36\u001b[0m \u001b[39m- signal_index: int\u001b[39;00m\n\u001b[1;32m     37\u001b[0m \u001b[39m- data_folder_path:str. The path to the folder when the desired file can be loaded from\u001b[39;00m\n\u001b[1;32m     38\u001b[0m \u001b[39m\"\"\"\u001b[39;00m\n\u001b[1;32m     40\u001b[0m file_name \u001b[39m=\u001b[39m \u001b[39mf\u001b[39m\u001b[39m'\u001b[39m\u001b[39m{\u001b[39;00msignal_index\u001b[39m}\u001b[39;00m\u001b[39m.npy\u001b[39m\u001b[39m'\u001b[39m\n\u001b[0;32m---> 41\u001b[0m X \u001b[39m=\u001b[39m np\u001b[39m.\u001b[39;49mload(\u001b[39mself\u001b[39;49m\u001b[39m.\u001b[39;49mdata_path\u001b[39m+\u001b[39;49mfile_name,allow_pickle\u001b[39m=\u001b[39;49m\u001b[39mTrue\u001b[39;49;00m)\n\u001b[1;32m     42\u001b[0m y \u001b[39m=\u001b[39m \u001b[39mself\u001b[39m\u001b[39m.\u001b[39mmetadata[\u001b[39mself\u001b[39m\u001b[39m.\u001b[39mmetadata[\u001b[39m'\u001b[39m\u001b[39mreading\u001b[39m\u001b[39m'\u001b[39m] \u001b[39m==\u001b[39m signal_index][\u001b[39mself\u001b[39m\u001b[39m.\u001b[39mtargets]\u001b[39m.\u001b[39mvalues\n\u001b[1;32m     43\u001b[0m \u001b[39mif\u001b[39;00m \u001b[39mlen\u001b[39m(y)\u001b[39m>\u001b[39m\u001b[39m1\u001b[39m:\n",
      "File \u001b[0;32m~/anaconda3/envs/thesis_env/lib/python3.11/site-packages/numpy/lib/npyio.py:434\u001b[0m, in \u001b[0;36mload\u001b[0;34m(file, mmap_mode, allow_pickle, fix_imports, encoding, max_header_size)\u001b[0m\n\u001b[1;32m    432\u001b[0m _ZIP_SUFFIX \u001b[39m=\u001b[39m \u001b[39mb\u001b[39m\u001b[39m'\u001b[39m\u001b[39mPK\u001b[39m\u001b[39m\\x05\u001b[39;00m\u001b[39m\\x06\u001b[39;00m\u001b[39m'\u001b[39m \u001b[39m# empty zip files start with this\u001b[39;00m\n\u001b[1;32m    433\u001b[0m N \u001b[39m=\u001b[39m \u001b[39mlen\u001b[39m(\u001b[39mformat\u001b[39m\u001b[39m.\u001b[39mMAGIC_PREFIX)\n\u001b[0;32m--> 434\u001b[0m magic \u001b[39m=\u001b[39m fid\u001b[39m.\u001b[39mread(N)\n\u001b[1;32m    435\u001b[0m \u001b[39mif\u001b[39;00m \u001b[39mnot\u001b[39;00m magic:\n\u001b[1;32m    436\u001b[0m     \u001b[39mraise\u001b[39;00m \u001b[39mEOFError\u001b[39;00m(\u001b[39m\"\u001b[39m\u001b[39mNo data left in file\u001b[39m\u001b[39m\"\u001b[39m)\n",
      "\u001b[0;31mKeyboardInterrupt\u001b[0m: "
     ]
    },
    {
     "data": {
      "image/png": "[encoded data removed]",
      "text/plain": [
       "<Figure size 1000x300 with 2 Axes>"
      ]
     },
     "metadata": {},
     "output_type": "display_data"
    }
   ],
   "source": [
    "from combined_downstream_upstram.executors.train_on_local_machine_mps import trainer\n",
    "\n",
    "for lr in [0.0005,0.001,0.003]:\n",
    "    for class_weight in [33,50,66,100]:\n",
    "        for weight_decay in [0,0.0001,0.0005,0.001]:\n",
    "            loss_function_weight = torch.tensor([class_weight]).to(device)\n",
    "            config = {\n",
    "                # general\n",
    "                'seed': 123,\n",
    "                'metadata_file_path': './downstream_classification/data/combined_data/metadata_only_existant_readings_09042023.csv',\n",
    "                'data_folder_path': './downstream_classification/data/individual-signals/',\n",
    "                'fillna': 0,\n",
    "                # training\n",
    "                'batch_size': 64,\n",
    "                'n_epochs': 60,\n",
    "                'clip':1,\n",
    "                'loss_function_weight':loss_function_weight,\n",
    "                'targets': ['one_year_until_death'],\n",
    "                'saving_path': f'./combined_downstream_upstram/models/comined_model_training/comined_model_training_{lr}_{class_weight}_{weight_decay}',\n",
    "                'lr': lr,\n",
    "                'impute_only_missing':True,\n",
    "                'weight_decay':weight_decay,\n",
    "                'patience':5\n",
    "            }\n",
    "\n",
    "            import os\n",
    "\n",
    "            # run\n",
    "            print('Starting Experiment')\n",
    "            trainer(**config)\n"
   ]
  },
  {
   "cell_type": "code",
   "execution_count": null,
   "metadata": {},
   "outputs": [],
   "source": []
  },
  {
   "cell_type": "code",
   "execution_count": null,
   "metadata": {},
   "outputs": [
    {
     "name": "stdout",
     "output_type": "stream",
     "text": [
      "finished\n"
     ]
    }
   ],
   "source": [
    "print('finished')"
   ]
  },
  {
   "cell_type": "code",
   "execution_count": null,
   "metadata": {},
   "outputs": [],
   "source": []
  }
 ],
 "metadata": {
  "kernelspec": {
   "display_name": "torch-gpu",
   "language": "python",
   "name": "python3"
  },
  "language_info": {
   "codemirror_mode": {
    "name": "ipython",
    "version": 3
   },
   "file_extension": ".py",
   "mimetype": "text/x-python",
   "name": "python",
   "nbconvert_exporter": "python",
   "pygments_lexer": "ipython3",
   "version": "3.11.5"
  },
  "orig_nbformat": 4
 },
 "nbformat": 4,
 "nbformat_minor": 2
}
